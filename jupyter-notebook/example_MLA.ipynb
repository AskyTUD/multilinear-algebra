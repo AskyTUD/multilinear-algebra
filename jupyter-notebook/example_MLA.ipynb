{
 "cells": [
  {
   "cell_type": "markdown",
   "metadata": {
    "pycharm": {
     "name": "#%% md\n"
    }
   },
   "source": [
    "# Multilinear Algebra\n",
    "\n",
    "This file is to demonstrate some of the features of the class for multilinear algebra"
   ]
  },
  {
   "cell_type": "code",
   "execution_count": 1,
   "outputs": [],
   "source": [
    "import sys  \n",
    "sys.path.insert(0, '..')\n",
    "import numpy as np\n",
    "import multilinear_algebra as ma"
   ],
   "metadata": {
    "collapsed": false,
    "pycharm": {
     "name": "#%%\n"
    }
   }
  },
  {
   "cell_type": "markdown",
   "source": [
    "### Definition of Elements\n",
    "Following, we define a scalar und a symbolic variable. These two objects are used to define several other objects. The dimension of the underlying vector space is set to be 2."
   ],
   "metadata": {
    "collapsed": false,
    "pycharm": {
     "name": "#%% md\n"
    }
   }
  },
  {
   "cell_type": "code",
   "execution_count": 2,
   "outputs": [],
   "source": [
    "n_dim = 2\n",
    "s = ma.MLA.scalar(2)\n",
    "u = ma.MLA.parameter('u')"
   ],
   "metadata": {
    "collapsed": false,
    "pycharm": {
     "name": "#%%\n"
    }
   }
  },
  {
   "cell_type": "markdown",
   "source": [
    "First, we define an object A which has one upper and one lower index. We choose random integer values to initialize A."
   ],
   "metadata": {
    "collapsed": false,
    "pycharm": {
     "name": "#%% md\n"
    }
   }
  },
  {
   "cell_type": "code",
   "execution_count": 3,
   "outputs": [
    {
     "name": "stdout",
     "output_type": "stream",
     "text": [
      "the components of A are given by:  A^α_β\n",
      "Index    Symbol      Value\n",
      "-------  --------  -------\n",
      "(0, 0)   A^0_0           1\n",
      "(0, 1)   A^0_1          -3\n",
      "(1, 0)   A^1_0           8\n",
      "(1, 1)   A^1_1          -5\n"
     ]
    }
   ],
   "source": [
    "A = ma.MLA(tensor_type=['^_'], name='A', dim=n_dim)\n",
    "A.get_random_values()\n",
    "print('the components of A are given by: ', A)\n",
    "A.print_components()"
   ],
   "metadata": {
    "collapsed": false,
    "pycharm": {
     "name": "#%%\n"
    }
   }
  },
  {
   "cell_type": "markdown",
   "source": [
    "Next, some basic operations such as addition, renaming, and obtaining the negative values are presented."
   ],
   "metadata": {
    "collapsed": false,
    "pycharm": {
     "name": "#%% md\n"
    }
   }
  },
  {
   "cell_type": "code",
   "execution_count": 4,
   "outputs": [
    {
     "name": "stdout",
     "output_type": "stream",
     "text": [
      "Without renaming, the name of the new object results from that of the original one:  (-(A+A))^α_β\n",
      "After renaming, we obtain:  A1^α_β\n",
      "Index    Symbol      Value\n",
      "-------  --------  -------\n",
      "(0, 0)   A1^0_0         -2\n",
      "(0, 1)   A1^0_1          6\n",
      "(1, 0)   A1^1_0        -16\n",
      "(1, 1)   A1^1_1         10\n"
     ]
    }
   ],
   "source": [
    "A_new = A + A\n",
    "A_new_neg = -A_new\n",
    "print('Without renaming, the name of the new object results from that of the original one: ', A_new_neg)\n",
    "A_new_neg.rename('A1')\n",
    "print('After renaming, we obtain: ', A_new_neg)\n",
    "A_new_neg.print_components()"
   ],
   "metadata": {
    "collapsed": false,
    "pycharm": {
     "name": "#%%\n"
    }
   }
  },
  {
   "cell_type": "code",
   "execution_count": null,
   "outputs": [],
   "source": [
    "A_new = A - s*A\n",
    "print(A_new)\n",
    "A_new.print_components()"
   ],
   "metadata": {
    "collapsed": false,
    "pycharm": {
     "name": "#%%\n"
    }
   }
  },
  {
   "cell_type": "markdown",
   "source": [
    "Next, let's define some more sophisticated objects to test multiplication."
   ],
   "metadata": {
    "collapsed": false,
    "pycharm": {
     "name": "#%% md\n"
    }
   }
  },
  {
   "cell_type": "code",
   "execution_count": null,
   "outputs": [],
   "source": [
    "D1 = ma.MLA(tensor_type=['^__'], name='D1', dim=n_dim)\n",
    "D1.get_random_values()\n",
    "D2 = ma.MLA(tensor_type=['^^_'], name='D2', dim=n_dim)\n",
    "D2.get_random_values()\n",
    "print('By default, the components are given by :', D1, ' and ', D2)\n",
    "D1.print_components()"
   ],
   "metadata": {
    "collapsed": false,
    "pycharm": {
     "name": "#%%\n"
    }
   }
  },
  {
   "cell_type": "markdown",
   "source": [
    "Here, two indices are being eliminated because we are summing over these indices."
   ],
   "metadata": {
    "collapsed": false,
    "pycharm": {
     "name": "#%% md\n"
    }
   }
  },
  {
   "cell_type": "code",
   "execution_count": null,
   "outputs": [],
   "source": [
    "C = D1.id('abc')*D2.id('bcd')\n",
    "C.rename('C')\n",
    "print( C, ' = ', D1.id('abc'), ' * ', D2.id('bcd') )\n",
    "C.print_components()"
   ],
   "metadata": {
    "collapsed": false,
    "pycharm": {
     "name": "#%%\n"
    }
   }
  },
  {
   "cell_type": "markdown",
   "source": [
    "To illustrate the multiplication in detail, we use the print method below."
   ],
   "metadata": {
    "collapsed": false,
    "pycharm": {
     "name": "#%% md\n"
    }
   }
  },
  {
   "cell_type": "code",
   "execution_count": null,
   "outputs": [],
   "source": [
    "ma.MLA.print_multiplication(D1.id('abc'), D2.id('bcd'))"
   ],
   "metadata": {
    "collapsed": false,
    "pycharm": {
     "name": "#%%\n"
    }
   }
  },
  {
   "cell_type": "markdown",
   "source": [
    "### Various Multiplications\n",
    "Definition of the different objects"
   ],
   "metadata": {
    "collapsed": false,
    "pycharm": {
     "name": "#%% md\n"
    }
   }
  },
  {
   "cell_type": "code",
   "execution_count": null,
   "outputs": [],
   "source": [
    "P = ma.MLA.get_Kronecker(tensor_type=['__'], dim=n_dim)\n",
    "P.values[(0,0)] = 2\n",
    "P.values[(0,1)] = 1\n",
    "P.values[(1,0)] = 1\n",
    "P.values[(1,1)] = 3\n",
    "A = ma.MLA(tensor_type=['^_'], name='A', dim=n_dim)\n",
    "A.get_random_values()\n",
    "x = ma.MLA(tensor_type=['^'], name='x', dim=n_dim)\n",
    "x.get_random_values()\n",
    "xT = x.T()\n",
    "print(P, '; ', A, '; ', x, '; ', xT)"
   ],
   "metadata": {
    "collapsed": false,
    "pycharm": {
     "name": "#%%\n"
    }
   }
  },
  {
   "cell_type": "markdown",
   "source": [
    "Conversion of these objects into classical matrices and vectors"
   ],
   "metadata": {
    "collapsed": false,
    "pycharm": {
     "name": "#%% md\n"
    }
   }
  },
  {
   "cell_type": "code",
   "execution_count": null,
   "outputs": [],
   "source": [
    "Pm = P.get_matrix()\n",
    "Am = A.get_matrix()\n",
    "xv = x.get_matrix()\n",
    "xTv = xT.get_matrix()"
   ],
   "metadata": {
    "collapsed": false,
    "pycharm": {
     "name": "#%%\n"
    }
   }
  },
  {
   "cell_type": "markdown",
   "source": [
    "####  (1) Multiplication by components"
   ],
   "metadata": {
    "collapsed": false,
    "pycharm": {
     "name": "#%% md\n"
    }
   }
  },
  {
   "cell_type": "code",
   "execution_count": null,
   "outputs": [],
   "source": [
    "A = A.id('ab')\n",
    "x = x.id('b')\n",
    "xT = xT.id('a')\n",
    "x_new = x*A\n",
    "xT_new = A*xT\n",
    "\n",
    "print( x_new, ' = ', x, ' * ', A )\n",
    "x_new.print_components()\n",
    "ma.MLA.print_multiplication(A, x)\n",
    "print('\\n ')\n",
    "print( xT_new, ' = ', A, ' * ', xT )\n",
    "xT_new.print_components()\n",
    "ma.MLA.print_multiplication(A, xT)"
   ],
   "metadata": {
    "collapsed": false,
    "pycharm": {
     "name": "#%%\n"
    }
   }
  },
  {
   "cell_type": "code",
   "execution_count": null,
   "outputs": [],
   "source": [
    "(A.id('de')*x.T().id('d')).print_components()"
   ],
   "metadata": {
    "collapsed": false,
    "pycharm": {
     "name": "#%%\n"
    }
   }
  },
  {
   "cell_type": "markdown",
   "source": [
    "#### (2) Multiplication  by matrix-vector product"
   ],
   "metadata": {
    "collapsed": false,
    "pycharm": {
     "name": "#%% md\n"
    }
   }
  },
  {
   "cell_type": "code",
   "execution_count": null,
   "outputs": [],
   "source": [
    "print('A * x = ', Am@xv)\n",
    "print('xT * A = ', xTv@Am)"
   ],
   "metadata": {
    "collapsed": false,
    "pycharm": {
     "name": "#%%\n"
    }
   }
  },
  {
   "cell_type": "markdown",
   "source": [
    "#### (3) Objective Function"
   ],
   "metadata": {
    "collapsed": false,
    "pycharm": {
     "name": "#%% md\n"
    }
   }
  },
  {
   "cell_type": "code",
   "execution_count": null,
   "outputs": [],
   "source": [
    "(P.id('ab')*x.id('a')*x.id('b')).print_components()"
   ],
   "metadata": {
    "collapsed": false,
    "pycharm": {
     "name": "#%%\n"
    }
   }
  },
  {
   "cell_type": "code",
   "execution_count": null,
   "outputs": [],
   "source": [],
   "metadata": {
    "collapsed": false,
    "pycharm": {
     "name": "#%%\n"
    }
   }
  },
  {
   "cell_type": "code",
   "execution_count": null,
   "metadata": {},
   "outputs": [],
   "source": [
    "import sys  \n",
    "sys.path.insert(0, '..')\n",
    "import numpy as np\n",
    "import multilinear_algebra as ma\n"
   ]
  },
  {
   "cell_type": "markdown",
   "metadata": {},
   "source": [
    "### Definition of Elements\n",
    "Following, we define a scalar und a symbolic variable. These two objects are used to define several other objects. The dimension of the underlying vector space is set to be 2."
   ]
  },
  {
   "cell_type": "code",
   "execution_count": 2,
   "metadata": {},
   "outputs": [],
   "source": [
    "n_dim = 2\n",
    "s = ma.MLA.scalar(2)\n",
    "u = ma.MLA.parameter('u')"
   ]
  },
  {
   "cell_type": "markdown",
   "metadata": {},
   "source": [
    "First, we define an object A which has one upper and one lower index. We choose random integer values to initialize A."
   ]
  },
  {
   "cell_type": "code",
   "execution_count": 4,
   "metadata": {},
   "outputs": [
    {
     "name": "stdout",
     "output_type": "stream",
     "text": [
      "the components of A are given by:  A^α_β\n",
      "Index    Symbol      Value\n",
      "-------  --------  -------\n",
      "(0, 0)   A^0_0          -7\n",
      "(0, 1)   A^0_1          -9\n",
      "(1, 0)   A^1_0           4\n",
      "(1, 1)   A^1_1          -5\n"
     ]
    }
   ],
   "source": [
    "A = ma.MLA(tensor_type=['^_'], name='A', dim=n_dim)\n",
    "A.get_random_values()\n",
    "print('the components of A are given by: ', A)\n",
    "A.print_components()"
   ]
  },
  {
   "cell_type": "markdown",
   "metadata": {},
   "source": [
    "Next, some basic operations such as addition, renaming, and obtaining the negative values are presented."
   ]
  },
  {
   "cell_type": "code",
   "execution_count": 5,
   "metadata": {},
   "outputs": [
    {
     "name": "stdout",
     "output_type": "stream",
     "text": [
      "Without renaming, the name of the new object results from that of the original one:  (-(A+A))^α_β\n",
      "After renaming, we obtain:  A1^α_β\n",
      "Index    Symbol      Value\n",
      "-------  --------  -------\n",
      "(0, 0)   A1^0_0         14\n",
      "(0, 1)   A1^0_1         18\n",
      "(1, 0)   A1^1_0         -8\n",
      "(1, 1)   A1^1_1         10\n"
     ]
    }
   ],
   "source": [
    "A_new = A + A\n",
    "A_new_neg = -A_new\n",
    "print('Without renaming, the name of the new object results from that of the original one: ', A_new_neg)\n",
    "A_new_neg.rename('A1')\n",
    "print('After renaming, we obtain: ', A_new_neg)\n",
    "A_new_neg.print_components()"
   ]
  },
  {
   "cell_type": "code",
   "execution_count": 6,
   "metadata": {},
   "outputs": [
    {
     "name": "stdout",
     "output_type": "stream",
     "text": [
      "(A-(s*A))^α_β\n",
      "Index    Symbol           Value\n",
      "-------  -------------  -------\n",
      "(0, 0)   (A-(s*A))^0_0        7\n",
      "(0, 1)   (A-(s*A))^0_1        9\n",
      "(1, 0)   (A-(s*A))^1_0       -4\n",
      "(1, 1)   (A-(s*A))^1_1        5\n"
     ]
    }
   ],
   "source": [
    "A_new = A - s*A\n",
    "print(A_new)\n",
    "A_new.print_components()"
   ]
  },
  {
   "cell_type": "markdown",
   "metadata": {},
   "source": [
    "Next, let's define some more sophisticated objects to test multiplication."
   ]
  },
  {
   "cell_type": "code",
   "execution_count": 7,
   "metadata": {},
   "outputs": [
    {
     "ename": "AttributeError",
     "evalue": "module 'multilinear_algebra' has no attribute 'MA'",
     "output_type": "error",
     "traceback": [
      "\u001B[0;31m---------------------------------------------------------------------------\u001B[0m",
      "\u001B[0;31mAttributeError\u001B[0m                            Traceback (most recent call last)",
      "Input \u001B[0;32mIn [7]\u001B[0m, in \u001B[0;36m<cell line: 1>\u001B[0;34m()\u001B[0m\n\u001B[0;32m----> 1\u001B[0m D1 \u001B[38;5;241m=\u001B[39m \u001B[43mma\u001B[49m\u001B[38;5;241;43m.\u001B[39;49m\u001B[43mMA\u001B[49m(tensor_type\u001B[38;5;241m=\u001B[39m[\u001B[38;5;124m'\u001B[39m\u001B[38;5;124m^__\u001B[39m\u001B[38;5;124m'\u001B[39m], name\u001B[38;5;241m=\u001B[39m\u001B[38;5;124m'\u001B[39m\u001B[38;5;124mD1\u001B[39m\u001B[38;5;124m'\u001B[39m, dim\u001B[38;5;241m=\u001B[39mn_dim)\n\u001B[1;32m      2\u001B[0m D1\u001B[38;5;241m.\u001B[39mget_random_values()\n\u001B[1;32m      3\u001B[0m D2 \u001B[38;5;241m=\u001B[39m ma\u001B[38;5;241m.\u001B[39mMA(tensor_type\u001B[38;5;241m=\u001B[39m[\u001B[38;5;124m'\u001B[39m\u001B[38;5;124m^^_\u001B[39m\u001B[38;5;124m'\u001B[39m], name\u001B[38;5;241m=\u001B[39m\u001B[38;5;124m'\u001B[39m\u001B[38;5;124mD2\u001B[39m\u001B[38;5;124m'\u001B[39m, dim\u001B[38;5;241m=\u001B[39mn_dim)\n",
      "\u001B[0;31mAttributeError\u001B[0m: module 'multilinear_algebra' has no attribute 'MA'"
     ]
    }
   ],
   "source": [
    "D1 = ma.MA(tensor_type=['^__'], name='D1', dim=n_dim)\n",
    "D1.get_random_values()\n",
    "D2 = ma.MA(tensor_type=['^^_'], name='D2', dim=n_dim)\n",
    "D2.get_random_values()\n",
    "print('By default, the components are given by :', D1, ' and ', D2)\n",
    "D1.print_components()"
   ]
  },
  {
   "cell_type": "markdown",
   "metadata": {},
   "source": [
    "Here, two indices are being eliminated because we are summing over these indices."
   ]
  },
  {
   "cell_type": "code",
   "execution_count": 8,
   "metadata": {},
   "outputs": [
    {
     "ename": "NameError",
     "evalue": "name 'D1' is not defined",
     "output_type": "error",
     "traceback": [
      "\u001B[0;31m---------------------------------------------------------------------------\u001B[0m",
      "\u001B[0;31mNameError\u001B[0m                                 Traceback (most recent call last)",
      "Input \u001B[0;32mIn [8]\u001B[0m, in \u001B[0;36m<cell line: 1>\u001B[0;34m()\u001B[0m\n\u001B[0;32m----> 1\u001B[0m C \u001B[38;5;241m=\u001B[39m \u001B[43mD1\u001B[49m\u001B[38;5;241m.\u001B[39mid(\u001B[38;5;124m'\u001B[39m\u001B[38;5;124mabc\u001B[39m\u001B[38;5;124m'\u001B[39m)\u001B[38;5;241m*\u001B[39mD2\u001B[38;5;241m.\u001B[39mid(\u001B[38;5;124m'\u001B[39m\u001B[38;5;124mbcd\u001B[39m\u001B[38;5;124m'\u001B[39m)\n\u001B[1;32m      2\u001B[0m C\u001B[38;5;241m.\u001B[39mrename(\u001B[38;5;124m'\u001B[39m\u001B[38;5;124mC\u001B[39m\u001B[38;5;124m'\u001B[39m)\n\u001B[1;32m      3\u001B[0m \u001B[38;5;28mprint\u001B[39m( C, \u001B[38;5;124m'\u001B[39m\u001B[38;5;124m = \u001B[39m\u001B[38;5;124m'\u001B[39m, D1\u001B[38;5;241m.\u001B[39mid(\u001B[38;5;124m'\u001B[39m\u001B[38;5;124mabc\u001B[39m\u001B[38;5;124m'\u001B[39m), \u001B[38;5;124m'\u001B[39m\u001B[38;5;124m * \u001B[39m\u001B[38;5;124m'\u001B[39m, D2\u001B[38;5;241m.\u001B[39mid(\u001B[38;5;124m'\u001B[39m\u001B[38;5;124mbcd\u001B[39m\u001B[38;5;124m'\u001B[39m) )\n",
      "\u001B[0;31mNameError\u001B[0m: name 'D1' is not defined"
     ]
    }
   ],
   "source": [
    "C = D1.id('abc')*D2.id('bcd')\n",
    "C.rename('C')\n",
    "print( C, ' = ', D1.id('abc'), ' * ', D2.id('bcd') )\n",
    "C.print_components()"
   ]
  },
  {
   "cell_type": "code",
   "execution_count": null,
   "metadata": {},
   "outputs": [],
   "source": []
  }
 ],
 "metadata": {
  "kernelspec": {
   "display_name": "Python 3 (ipykernel)",
   "language": "python",
   "name": "python3"
  },
  "language_info": {
   "codemirror_mode": {
    "name": "ipython",
    "version": 3
   },
   "file_extension": ".py",
   "mimetype": "text/x-python",
   "name": "python",
   "nbconvert_exporter": "python",
   "pygments_lexer": "ipython3",
   "version": "3.8.13"
  }
 },
 "nbformat": 4,
 "nbformat_minor": 1
}