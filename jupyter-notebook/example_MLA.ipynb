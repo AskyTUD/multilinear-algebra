{
 "cells": [
  {
   "cell_type": "markdown",
   "metadata": {
    "pycharm": {
     "name": "#%% md\n"
    }
   },
   "source": [
    "# Multilinear Algebra\n",
    "\n",
    "This file is to demonstrate some of the features of the class for multilinear algebra"
   ]
  },
  {
   "cell_type": "code",
   "execution_count": 1,
   "metadata": {
    "pycharm": {
     "name": "#%%\n"
    }
   },
   "outputs": [],
   "source": [
    "import sys  \n",
    "sys.path.insert(0, '..')\n",
    "import numpy as np\n",
    "import multilinear_algebra as ma"
   ]
  },
  {
   "cell_type": "markdown",
   "metadata": {
    "pycharm": {
     "name": "#%% md\n"
    }
   },
   "source": [
    "### Definition of Elements\n",
    "Following, we define a scalar und a symbolic variable. These two objects are used to define several other objects. The dimension of the underlying vector space is set to be 2."
   ]
  },
  {
   "cell_type": "code",
   "execution_count": 2,
   "metadata": {
    "pycharm": {
     "name": "#%%\n"
    }
   },
   "outputs": [],
   "source": [
    "n_dim = 2\n",
    "s = ma.MLA.scalar(2)\n",
    "u = ma.MLA.parameter('u')"
   ]
  },
  {
   "cell_type": "markdown",
   "metadata": {
    "pycharm": {
     "name": "#%% md\n"
    }
   },
   "source": [
    "First, we define an object A which has one upper and one lower index. We choose random integer values to initialize A."
   ]
  },
  {
   "cell_type": "code",
   "execution_count": 4,
   "metadata": {
    "pycharm": {
     "name": "#%%\n"
    }
   },
   "outputs": [
    {
     "name": "stdout",
     "output_type": "stream",
     "text": [
      "the components of A are given by:  A^α_β\n",
      "Index    Symbol      Value\n",
      "-------  --------  -------\n",
      "(0, 0)   A^0_0           2\n",
      "(0, 1)   A^0_1           1\n",
      "(1, 0)   A^1_0           3\n",
      "(1, 1)   A^1_1          -1\n"
     ]
    }
   ],
   "source": [
    "A = ma.MLA(tensor_type=['^_'], name='A', dim=n_dim)\n",
    "A.get_random_values()\n",
    "print('the components of A are given by: ', A)\n",
    "A.print_components()"
   ]
  },
  {
   "cell_type": "markdown",
   "metadata": {
    "pycharm": {
     "name": "#%% md\n"
    }
   },
   "source": [
    "Next, some basic operations such as addition, renaming, and obtaining the negative values are presented."
   ]
  },
  {
   "cell_type": "code",
   "execution_count": 5,
   "metadata": {
    "pycharm": {
     "name": "#%%\n"
    }
   },
   "outputs": [
    {
     "name": "stdout",
     "output_type": "stream",
     "text": [
      "Without renaming, the name of the new object results from that of the original one:  (-(A+A))^α_β\n",
      "After renaming, we obtain:  A1^α_β\n",
      "Index    Symbol      Value\n",
      "-------  --------  -------\n",
      "(0, 0)   A1^0_0         -4\n",
      "(0, 1)   A1^0_1         -2\n",
      "(1, 0)   A1^1_0         -6\n",
      "(1, 1)   A1^1_1          2\n"
     ]
    }
   ],
   "source": [
    "A_new = A + A\n",
    "A_new_neg = -A_new\n",
    "print('Without renaming, the name of the new object results from that of the original one: ', A_new_neg)\n",
    "A_new_neg.rename('A1')\n",
    "print('After renaming, we obtain: ', A_new_neg)\n",
    "A_new_neg.print_components()"
   ]
  },
  {
   "cell_type": "code",
   "execution_count": 6,
   "metadata": {
    "pycharm": {
     "name": "#%%\n"
    }
   },
   "outputs": [
    {
     "name": "stdout",
     "output_type": "stream",
     "text": [
      "(A-(s*A))^α_β\n",
      "Index    Symbol           Value\n",
      "-------  -------------  -------\n",
      "(0, 0)   (A-(s*A))^0_0       -2\n",
      "(0, 1)   (A-(s*A))^0_1       -1\n",
      "(1, 0)   (A-(s*A))^1_0       -3\n",
      "(1, 1)   (A-(s*A))^1_1        1\n"
     ]
    }
   ],
   "source": [
    "A_new = A - s*A\n",
    "print(A_new)\n",
    "A_new.print_components()"
   ]
  },
  {
   "cell_type": "markdown",
   "metadata": {
    "pycharm": {
     "name": "#%% md\n"
    }
   },
   "source": [
    "Next, let's define some more sophisticated objects to test multiplication."
   ]
  },
  {
   "cell_type": "code",
   "execution_count": 7,
   "metadata": {
    "pycharm": {
     "name": "#%%\n"
    }
   },
   "outputs": [
    {
     "name": "stdout",
     "output_type": "stream",
     "text": [
      "By default, the components are given by : D1^α_β_γ  and  D2^α^β_γ\n",
      "Index      Symbol      Value\n",
      "---------  --------  -------\n",
      "(0, 0, 0)  D1^0_0_0        9\n",
      "(0, 0, 1)  D1^0_0_1        4\n",
      "(0, 1, 0)  D1^0_1_0        2\n",
      "(0, 1, 1)  D1^0_1_1       -4\n",
      "(1, 0, 0)  D1^1_0_0        5\n",
      "(1, 0, 1)  D1^1_0_1       -7\n",
      "(1, 1, 0)  D1^1_1_0        7\n",
      "(1, 1, 1)  D1^1_1_1        6\n"
     ]
    }
   ],
   "source": [
    "D1 = ma.MLA(tensor_type=['^__'], name='D1', dim=n_dim)\n",
    "D1.get_random_values()\n",
    "D2 = ma.MLA(tensor_type=['^^_'], name='D2', dim=n_dim)\n",
    "D2.get_random_values()\n",
    "print('By default, the components are given by :', D1, ' and ', D2)\n",
    "\n",
    "D1.print_components()"
   ]
  },
  {
   "cell_type": "markdown",
   "metadata": {
    "pycharm": {
     "name": "#%% md\n"
    }
   },
   "source": [
    "Here, two indices are being eliminated because we are summing over these indices."
   ]
  },
  {
   "cell_type": "code",
   "execution_count": 8,
   "metadata": {
    "pycharm": {
     "name": "#%%\n"
    }
   },
   "outputs": [
    {
     "name": "stdout",
     "output_type": "stream",
     "text": [
      "C^a_d  =  D1^a_b_c  *  D2^b^c_d\n",
      "Index    Symbol      Value\n",
      "-------  --------  -------\n",
      "(0, 0)   C^0_0          92\n",
      "(0, 1)   C^0_1         -37\n",
      "(1, 0)   C^1_0          -3\n",
      "(1, 1)   C^1_1         -92\n"
     ]
    }
   ],
   "source": [
    "C = D1.id('abc')*D2.id('bcd')\n",
    "C.rename('C')\n",
    "print( C, ' = ', D1.id('abc'), ' * ', D2.id('bcd') )\n",
    "C.print_components()"
   ]
  },
  {
   "cell_type": "markdown",
   "metadata": {
    "pycharm": {
     "name": "#%% md\n"
    }
   },
   "source": [
    "To illustrate the multiplication in detail, we use the print method below."
   ]
  },
  {
   "cell_type": "code",
   "execution_count": 9,
   "metadata": {
    "pycharm": {
     "name": "#%%\n"
    }
   },
   "outputs": [
    {
     "name": "stdout",
     "output_type": "stream",
     "text": [
      "Index    Symbol       Value\n",
      "-------  -----------  -----------------------------------------------------------------------\n",
      "(0, 0)   (D1*D2)^0_0  D1^0_0_0 D2^0^0_0+D1^0_0_1 D2^0^1_0+D1^0_1_0 D2^1^0_0+D1^0_1_1 D2^1^1_0\n",
      "(0, 1)   (D1*D2)^0_1  D1^0_0_0 D2^0^0_1+D1^0_0_1 D2^0^1_1+D1^0_1_0 D2^1^0_1+D1^0_1_1 D2^1^1_1\n",
      "(1, 0)   (D1*D2)^1_0  D1^1_0_0 D2^0^0_0+D1^1_0_1 D2^0^1_0+D1^1_1_0 D2^1^0_0+D1^1_1_1 D2^1^1_0\n",
      "(1, 1)   (D1*D2)^1_1  D1^1_0_0 D2^0^0_1+D1^1_0_1 D2^0^1_1+D1^1_1_0 D2^1^0_1+D1^1_1_1 D2^1^1_1\n"
     ]
    }
   ],
   "source": [
    "ma.MLA.print_multiplication(D1.id('abc'), D2.id('bcd'))"
   ]
  },
  {
   "cell_type": "markdown",
   "metadata": {
    "pycharm": {
     "name": "#%% md\n"
    }
   },
   "source": [
    "### Various Multiplications\n",
    "Definition of the different objects"
   ]
  },
  {
   "cell_type": "code",
   "execution_count": null,
   "metadata": {
    "pycharm": {
     "name": "#%%\n"
    }
   },
   "outputs": [],
   "source": [
    "P = ma.MLA.get_Kronecker(tensor_type=['__'], dim=n_dim)\n",
    "P.values[(0,0)] = 2\n",
    "P.values[(0,1)] = 1\n",
    "P.values[(1,0)] = 1\n",
    "P.values[(1,1)] = 3\n",
    "A = ma.MLA(tensor_type=['^_'], name='A', dim=n_dim)\n",
    "A.get_random_values()\n",
    "x = ma.MLA(tensor_type=['^'], name='x', dim=n_dim)\n",
    "x.get_random_values()\n",
    "xT = x.T()\n",
    "print(P, '; ', A, '; ', x, '; ', xT)"
   ]
  },
  {
   "cell_type": "markdown",
   "metadata": {
    "pycharm": {
     "name": "#%% md\n"
    }
   },
   "source": [
    "Conversion of these objects into classical matrices and vectors"
   ]
  },
  {
   "cell_type": "code",
   "execution_count": null,
   "metadata": {
    "pycharm": {
     "name": "#%%\n"
    }
   },
   "outputs": [],
   "source": [
    "Pm = P.get_matrix()\n",
    "Am = A.get_matrix()\n",
    "xv = x.get_matrix()\n",
    "xTv = xT.get_matrix()"
   ]
  },
  {
   "cell_type": "markdown",
   "metadata": {
    "pycharm": {
     "name": "#%% md\n"
    }
   },
   "source": [
    "####  (1) Multiplication by components"
   ]
  },
  {
   "cell_type": "code",
   "execution_count": null,
   "metadata": {
    "pycharm": {
     "name": "#%%\n"
    }
   },
   "outputs": [],
   "source": [
    "A = A.id('ab')\n",
    "x = x.id('b')\n",
    "xT = xT.id('a')\n",
    "x_new = x*A\n",
    "xT_new = A*xT\n",
    "\n",
    "print( x_new, ' = ', x, ' * ', A )\n",
    "x_new.print_components()\n",
    "ma.MLA.print_multiplication(A, x)\n",
    "print('\\n ')\n",
    "print( xT_new, ' = ', A, ' * ', xT )\n",
    "xT_new.print_components()\n",
    "ma.MLA.print_multiplication(A, xT)"
   ]
  },
  {
   "cell_type": "code",
   "execution_count": null,
   "metadata": {
    "pycharm": {
     "name": "#%%\n"
    }
   },
   "outputs": [],
   "source": [
    "(A.id('de')*x.T().id('d')).print_components()"
   ]
  },
  {
   "cell_type": "markdown",
   "metadata": {
    "pycharm": {
     "name": "#%% md\n"
    }
   },
   "source": [
    "#### (2) Multiplication  by matrix-vector product"
   ]
  },
  {
   "cell_type": "code",
   "execution_count": null,
   "metadata": {
    "pycharm": {
     "name": "#%%\n"
    }
   },
   "outputs": [],
   "source": [
    "print('A * x = ', Am@xv)\n",
    "print('xT * A = ', xTv@Am)"
   ]
  },
  {
   "cell_type": "markdown",
   "metadata": {
    "pycharm": {
     "name": "#%% md\n"
    }
   },
   "source": [
    "#### (3) Objective Function"
   ]
  },
  {
   "cell_type": "code",
   "execution_count": null,
   "metadata": {
    "pycharm": {
     "name": "#%%\n"
    }
   },
   "outputs": [],
   "source": [
    "(P.id('ab')*x.id('a')*x.id('b')).print_components()"
   ]
  },
  {
   "cell_type": "code",
   "execution_count": null,
   "metadata": {
    "pycharm": {
     "name": "#%%\n"
    }
   },
   "outputs": [],
   "source": []
  },
  {
   "cell_type": "code",
   "execution_count": null,
   "metadata": {
    "pycharm": {
     "name": "#%%\n"
    }
   },
   "outputs": [],
   "source": [
    "import sys  \n",
    "sys.path.insert(0, '..')\n",
    "import numpy as np\n",
    "import multilinear_algebra as ma\n"
   ]
  },
  {
   "cell_type": "markdown",
   "metadata": {
    "pycharm": {
     "name": "#%% md\n"
    }
   },
   "source": [
    "### Definition of Elements\n",
    "Following, we define a scalar und a symbolic variable. These two objects are used to define several other objects. The dimension of the underlying vector space is set to be 2."
   ]
  },
  {
   "cell_type": "code",
   "execution_count": null,
   "metadata": {
    "pycharm": {
     "name": "#%%\n"
    }
   },
   "outputs": [],
   "source": [
    "n_dim = 2\n",
    "s = ma.MLA.scalar(2)\n",
    "u = ma.MLA.parameter('u')"
   ]
  },
  {
   "cell_type": "markdown",
   "metadata": {
    "pycharm": {
     "name": "#%% md\n"
    }
   },
   "source": [
    "First, we define an object A which has one upper and one lower index. We choose random integer values to initialize A."
   ]
  },
  {
   "cell_type": "code",
   "execution_count": null,
   "metadata": {
    "pycharm": {
     "name": "#%%\n"
    }
   },
   "outputs": [],
   "source": [
    "A = ma.MLA(tensor_type=['^_'], name='A', dim=n_dim)\n",
    "A.get_random_values()\n",
    "print('the components of A are given by: ', A)\n",
    "A.print_components()"
   ]
  },
  {
   "cell_type": "markdown",
   "metadata": {
    "pycharm": {
     "name": "#%% md\n"
    }
   },
   "source": [
    "Next, some basic operations such as addition, renaming, and obtaining the negative values are presented."
   ]
  },
  {
   "cell_type": "code",
   "execution_count": null,
   "metadata": {
    "pycharm": {
     "name": "#%%\n"
    }
   },
   "outputs": [],
   "source": [
    "A_new = A + A\n",
    "A_new_neg = -A_new\n",
    "print('Without renaming, the name of the new object results from that of the original one: ', A_new_neg)\n",
    "A_new_neg.rename('A1')\n",
    "print('After renaming, we obtain: ', A_new_neg)\n",
    "A_new_neg.print_components()"
   ]
  },
  {
   "cell_type": "code",
   "execution_count": null,
   "metadata": {
    "pycharm": {
     "name": "#%%\n"
    }
   },
   "outputs": [],
   "source": [
    "A_new = A - s*A\n",
    "print(A_new)\n",
    "A_new.print_components()"
   ]
  },
  {
   "cell_type": "markdown",
   "metadata": {
    "pycharm": {
     "name": "#%% md\n"
    }
   },
   "source": [
    "Next, let's define some more sophisticated objects to test multiplication."
   ]
  },
  {
   "cell_type": "code",
   "execution_count": null,
   "metadata": {
    "pycharm": {
     "name": "#%%\n"
    }
   },
   "outputs": [],
   "source": [
    "D1 = ma.MA(tensor_type=['^__'], name='D1', dim=n_dim)\n",
    "D1.get_random_values()\n",
    "D2 = ma.MA(tensor_type=['^^_'], name='D2', dim=n_dim)\n",
    "D2.get_random_values()\n",
    "print('By default, the components are given by :', D1, ' and ', D2)\n",
    "D1.print_components()"
   ]
  },
  {
   "cell_type": "markdown",
   "metadata": {
    "pycharm": {
     "name": "#%% md\n"
    }
   },
   "source": [
    "Here, two indices are being eliminated because we are summing over these indices."
   ]
  },
  {
   "cell_type": "code",
   "execution_count": null,
   "metadata": {
    "pycharm": {
     "name": "#%%\n"
    }
   },
   "outputs": [],
   "source": [
    "C = D1.id('abc')*D2.id('bcd')\n",
    "C.rename('C')\n",
    "print( C, ' = ', D1.id('abc'), ' * ', D2.id('bcd') )\n",
    "C.print_components()"
   ]
  },
  {
   "cell_type": "code",
   "execution_count": null,
   "metadata": {
    "pycharm": {
     "name": "#%%\n"
    }
   },
   "outputs": [],
   "source": []
  }
 ],
 "metadata": {
  "kernelspec": {
   "display_name": "Python 3 (ipykernel)",
   "language": "python",
   "name": "python3"
  },
  "language_info": {
   "codemirror_mode": {
    "name": "ipython",
    "version": 3
   },
   "file_extension": ".py",
   "mimetype": "text/x-python",
   "name": "python",
   "nbconvert_exporter": "python",
   "pygments_lexer": "ipython3",
   "version": "3.8.13"
  }
 },
 "nbformat": 4,
 "nbformat_minor": 1
}