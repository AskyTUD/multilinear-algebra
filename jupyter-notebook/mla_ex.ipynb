{
 "cells": [
  {
   "cell_type": "markdown",
   "metadata": {
    "pycharm": {
     "name": "#%% md\n"
    }
   },
   "source": [
    "# Multilinear Algebra\n",
    "\n",
    "This file is to demonstrate some of the features of the class for multilinear algebra"
   ]
  },
  {
   "cell_type": "code",
   "execution_count": null,
   "metadata": {
    "pycharm": {
     "name": "#%%\n"
    }
   },
   "outputs": [],
   "source": [
    "import sys  \n",
    "sys.path.insert(0, '..')\n",
    "import numpy as np\n",
    "import multilinear_algebra as ma"
   ]
  },
  {
   "cell_type": "markdown",
   "metadata": {
    "pycharm": {
     "name": "#%% md\n"
    }
   },
   "source": [
    "### Definition of Elements\n",
    "Following, we define a scalar und a symbolic variable. These two objects are used to define several other objects. The dimension of the underlying vector space is set to be 2."
   ]
  },
  {
   "cell_type": "code",
   "execution_count": null,
   "metadata": {
    "pycharm": {
     "name": "#%%\n"
    }
   },
   "outputs": [],
   "source": [
    "n_dim = 2\n",
    "s = ma.MLA.scalar(2)\n",
    "u = ma.MLA.parameter('u')"
   ]
  },
  {
   "cell_type": "markdown",
   "metadata": {
    "pycharm": {
     "name": "#%% md\n"
    }
   },
   "source": [
    "First, we define an object A which has one upper and one lower index. We choose random integer values to initialize A."
   ]
  },
  {
   "cell_type": "code",
   "execution_count": null,
   "metadata": {
    "pycharm": {
     "name": "#%%\n"
    }
   },
   "outputs": [],
   "source": [
    "A = ma.MLA(tensor_type=['^_'], name='A', dim=n_dim)\n",
    "A.get_random_values()\n",
    "print('the components of A are given by: ', A)\n",
    "A.print_components()"
   ]
  },
  {
   "cell_type": "markdown",
   "metadata": {
    "pycharm": {
     "name": "#%% md\n"
    }
   },
   "source": [
    "Next, some basic operations such as addition, renaming, and obtaining the negative values are presented."
   ]
  },
  {
   "cell_type": "code",
   "execution_count": null,
   "metadata": {
    "pycharm": {
     "name": "#%%\n"
    }
   },
   "outputs": [],
   "source": [
    "A_new = A + A\n",
    "A_new_neg = -A_new\n",
    "print('Without renaming, the name of the new object results from that of the original one: ', A_new_neg)\n",
    "A_new_neg.rename('A1')\n",
    "print('After renaming, we obtain: ', A_new_neg)\n",
    "A_new_neg.print_components()"
   ]
  },
  {
   "cell_type": "code",
   "execution_count": null,
   "metadata": {
    "pycharm": {
     "name": "#%%\n"
    }
   },
   "outputs": [],
   "source": [
    "A_new = A - s*A\n",
    "print(A_new)\n",
    "A_new.print_components()"
   ]
  },
  {
   "cell_type": "markdown",
   "metadata": {
    "pycharm": {
     "name": "#%% md\n"
    }
   },
   "source": [
    "Next, let's define some more sophisticated objects to test multiplication."
   ]
  },
  {
   "cell_type": "code",
   "execution_count": null,
   "metadata": {
    "pycharm": {
     "name": "#%%\n"
    }
   },
   "outputs": [],
   "source": [
    "D1 = ma.MLA(tensor_type=['^__'], name='D1', dim=n_dim)\n",
    "D1.get_random_values()\n",
    "D2 = ma.MLA(tensor_type=['^^_'], name='D2', dim=n_dim)\n",
    "D2.get_random_values()\n",
    "print('By default, the components are given by :', D1, ' and ', D2)\n",
    "\n",
    "D1.print_components()"
   ]
  },
  {
   "cell_type": "markdown",
   "metadata": {
    "pycharm": {
     "name": "#%% md\n"
    }
   },
   "source": [
    "Here, two indices are being eliminated because we are summing over these indices."
   ]
  },
  {
   "cell_type": "code",
   "execution_count": null,
   "metadata": {
    "pycharm": {
     "name": "#%%\n"
    }
   },
   "outputs": [],
   "source": [
    "C = D1.id('abc')*D2.id('bcd')\n",
    "C.rename('C')\n",
    "print( C, ' = ', D1.id('abc'), ' * ', D2.id('bcd') )\n",
    "C.print_components()"
   ]
  },
  {
   "cell_type": "markdown",
   "metadata": {
    "pycharm": {
     "name": "#%% md\n"
    }
   },
   "source": [
    "To illustrate the multiplication in detail, we use the print method below."
   ]
  },
  {
   "cell_type": "code",
   "execution_count": null,
   "metadata": {
    "pycharm": {
     "name": "#%%\n"
    }
   },
   "outputs": [],
   "source": [
    "ma.MLA.print_multiplication(D1.id('abc'), D2.id('bcd'))"
   ]
  },
  {
   "cell_type": "markdown",
   "metadata": {
    "pycharm": {
     "name": "#%% md\n"
    }
   },
   "source": [
    "### Various Multiplications\n",
    "Definition of the different objects"
   ]
  },
  {
   "cell_type": "code",
   "execution_count": null,
   "metadata": {
    "pycharm": {
     "name": "#%%\n"
    }
   },
   "outputs": [],
   "source": [
    "P = ma.MLA.get_Kronecker(tensor_type=['__'], dim=n_dim)\n",
    "P.values[(0,0)] = 2\n",
    "P.values[(0,1)] = 1\n",
    "P.values[(1,0)] = 1\n",
    "P.values[(1,1)] = 3\n",
    "A = ma.MLA(tensor_type=['^_'], name='A', dim=n_dim)\n",
    "A.get_random_values()\n",
    "x = ma.MLA(tensor_type=['^'], name='x', dim=n_dim)\n",
    "x.get_random_values()\n",
    "xT = x.T()\n",
    "print(P, '; ', A, '; ', x, '; ', xT)"
   ]
  },
  {
   "cell_type": "markdown",
   "metadata": {
    "pycharm": {
     "name": "#%% md\n"
    }
   },
   "source": [
    "Conversion of these objects into classical matrices and vectors"
   ]
  },
  {
   "cell_type": "code",
   "execution_count": null,
   "metadata": {
    "pycharm": {
     "name": "#%%\n"
    }
   },
   "outputs": [],
   "source": [
    "Pm = P.get_matrix()\n",
    "Am = A.get_matrix()\n",
    "xv = x.get_matrix()\n",
    "xTv = xT.get_matrix()"
   ]
  },
  {
   "cell_type": "markdown",
   "metadata": {
    "pycharm": {
     "name": "#%% md\n"
    }
   },
   "source": [
    "####  (1) Multiplication by components"
   ]
  },
  {
   "cell_type": "code",
   "execution_count": null,
   "metadata": {
    "pycharm": {
     "name": "#%%\n"
    }
   },
   "outputs": [],
   "source": [
    "A = A.id('ab')\n",
    "x = x.id('b')\n",
    "xT = xT.id('a')\n",
    "x_new = x*A\n",
    "xT_new = A*xT\n",
    "\n",
    "print( x_new, ' = ', x, ' * ', A )\n",
    "x_new.print_components()\n",
    "ma.MLA.print_multiplication(A, x)\n",
    "print('\\n ')\n",
    "print( xT_new, ' = ', A, ' * ', xT )\n",
    "xT_new.print_components()\n",
    "ma.MLA.print_multiplication(A, xT)"
   ]
  },
  {
   "cell_type": "code",
   "execution_count": null,
   "metadata": {
    "pycharm": {
     "name": "#%%\n"
    }
   },
   "outputs": [],
   "source": [
    "(A.id('de')*x.T().id('d')).print_components()"
   ]
  },
  {
   "cell_type": "markdown",
   "metadata": {
    "pycharm": {
     "name": "#%% md\n"
    }
   },
   "source": [
    "#### (2) Multiplication  by matrix-vector product"
   ]
  },
  {
   "cell_type": "code",
   "execution_count": null,
   "metadata": {
    "pycharm": {
     "name": "#%%\n"
    }
   },
   "outputs": [],
   "source": [
    "print('A * x = ', Am@xv)\n",
    "print('xT * A = ', xTv@Am)"
   ]
  },
  {
   "cell_type": "markdown",
   "metadata": {
    "pycharm": {
     "name": "#%% md\n"
    }
   },
   "source": [
    "#### (3) Objective Function"
   ]
  },
  {
   "cell_type": "code",
   "execution_count": null,
   "metadata": {
    "pycharm": {
     "name": "#%%\n"
    }
   },
   "outputs": [],
   "source": [
    "(P.id('ab')*x.id('a')*x.id('b')).print_components()"
   ]
  }
 ],
 "metadata": {
  "kernelspec": {
   "display_name": "Python 3 (ipykernel)",
   "language": "python",
   "name": "python3"
  },
  "language_info": {
   "codemirror_mode": {
    "name": "ipython",
    "version": 3
   },
   "file_extension": ".py",
   "mimetype": "text/x-python",
   "name": "python",
   "nbconvert_exporter": "python",
   "pygments_lexer": "ipython3",
   "version": "3.8.13"
  }
 },
 "nbformat": 4,
 "nbformat_minor": 1
}